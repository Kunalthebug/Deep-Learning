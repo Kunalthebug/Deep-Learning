{
  "nbformat": 4,
  "nbformat_minor": 0,
  "metadata": {
    "colab": {
      "name": "BreastCancer.ipynb",
      "provenance": [],
      "authorship_tag": "ABX9TyPVVyrNfAYapLPd9gnp24hN",
      "include_colab_link": true
    },
    "kernelspec": {
      "name": "python3",
      "display_name": "Python 3"
    },
    "accelerator": "TPU"
  },
  "cells": [
    {
      "cell_type": "markdown",
      "metadata": {
        "id": "view-in-github",
        "colab_type": "text"
      },
      "source": [
        "<a href=\"https://colab.research.google.com/github/Kunalthebug/Deep-Learning/blob/master/BreastCancer.ipynb\" target=\"_parent\"><img src=\"https://colab.research.google.com/assets/colab-badge.svg\" alt=\"Open In Colab\"/></a>"
      ]
    },
    {
      "cell_type": "code",
      "metadata": {
        "id": "-HkQeT27evmk",
        "colab_type": "code",
        "outputId": "6cbbda70-b560-41c8-9b72-fab2484b4f8d",
        "colab": {
          "resources": {
            "http://localhost:8080/nbextensions/google.colab/files.js": {
              "data": "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",
              "ok": true,
              "headers": [
                [
                  "content-type",
                  "application/javascript"
                ]
              ],
              "status": 200,
              "status_text": ""
            }
          },
          "base_uri": "https://localhost:8080/",
          "height": 93
        }
      },
      "source": [
        "from google.colab import files\n",
        "uploaded=files.upload()\n",
        "for fn in uploaded.keys():\n",
        "  print('User uploaded file \"{name}\" with length {length} bytes'.format(name=fn,length=len(uploaded[fn])))"
      ],
      "execution_count": 0,
      "outputs": [
        {
          "output_type": "display_data",
          "data": {
            "text/html": [
              "\n",
              "     <input type=\"file\" id=\"files-155d9969-50c9-47c2-896f-273b578fa336\" name=\"files[]\" multiple disabled />\n",
              "     <output id=\"result-155d9969-50c9-47c2-896f-273b578fa336\">\n",
              "      Upload widget is only available when the cell has been executed in the\n",
              "      current browser session. Please rerun this cell to enable.\n",
              "      </output>\n",
              "      <script src=\"/nbextensions/google.colab/files.js\"></script> "
            ],
            "text/plain": [
              "<IPython.core.display.HTML object>"
            ]
          },
          "metadata": {
            "tags": []
          }
        },
        {
          "output_type": "stream",
          "text": [
            "Saving data.csv to data.csv\n",
            "User uploaded file \"data.csv\" with length 125204 bytes\n"
          ],
          "name": "stdout"
        }
      ]
    },
    {
      "cell_type": "code",
      "metadata": {
        "id": "JOfFK2bIgsRS",
        "colab_type": "code",
        "outputId": "8395f2b4-1c0c-4655-e265-b7f72ba1268c",
        "colab": {
          "base_uri": "https://localhost:8080/",
          "height": 239
        }
      },
      "source": [
        "import pandas as pd\n",
        "import io\n",
        "data=pd.read_csv(io.StringIO(uploaded['data.csv'].decode('utf-8')))\n",
        "data.head()"
      ],
      "execution_count": 0,
      "outputs": [
        {
          "output_type": "execute_result",
          "data": {
            "text/html": [
              "<div>\n",
              "<style scoped>\n",
              "    .dataframe tbody tr th:only-of-type {\n",
              "        vertical-align: middle;\n",
              "    }\n",
              "\n",
              "    .dataframe tbody tr th {\n",
              "        vertical-align: top;\n",
              "    }\n",
              "\n",
              "    .dataframe thead th {\n",
              "        text-align: right;\n",
              "    }\n",
              "</style>\n",
              "<table border=\"1\" class=\"dataframe\">\n",
              "  <thead>\n",
              "    <tr style=\"text-align: right;\">\n",
              "      <th></th>\n",
              "      <th>id</th>\n",
              "      <th>diagnosis</th>\n",
              "      <th>radius_mean</th>\n",
              "      <th>texture_mean</th>\n",
              "      <th>perimeter_mean</th>\n",
              "      <th>area_mean</th>\n",
              "      <th>smoothness_mean</th>\n",
              "      <th>compactness_mean</th>\n",
              "      <th>concavity_mean</th>\n",
              "      <th>concave points_mean</th>\n",
              "      <th>symmetry_mean</th>\n",
              "      <th>fractal_dimension_mean</th>\n",
              "      <th>radius_se</th>\n",
              "      <th>texture_se</th>\n",
              "      <th>perimeter_se</th>\n",
              "      <th>area_se</th>\n",
              "      <th>smoothness_se</th>\n",
              "      <th>compactness_se</th>\n",
              "      <th>concavity_se</th>\n",
              "      <th>concave points_se</th>\n",
              "      <th>symmetry_se</th>\n",
              "      <th>fractal_dimension_se</th>\n",
              "      <th>radius_worst</th>\n",
              "      <th>texture_worst</th>\n",
              "      <th>perimeter_worst</th>\n",
              "      <th>area_worst</th>\n",
              "      <th>smoothness_worst</th>\n",
              "      <th>compactness_worst</th>\n",
              "      <th>concavity_worst</th>\n",
              "      <th>concave points_worst</th>\n",
              "      <th>symmetry_worst</th>\n",
              "      <th>fractal_dimension_worst</th>\n",
              "      <th>Unnamed: 32</th>\n",
              "    </tr>\n",
              "  </thead>\n",
              "  <tbody>\n",
              "    <tr>\n",
              "      <th>0</th>\n",
              "      <td>842302</td>\n",
              "      <td>M</td>\n",
              "      <td>17.99</td>\n",
              "      <td>10.38</td>\n",
              "      <td>122.80</td>\n",
              "      <td>1001.0</td>\n",
              "      <td>0.11840</td>\n",
              "      <td>0.27760</td>\n",
              "      <td>0.3001</td>\n",
              "      <td>0.14710</td>\n",
              "      <td>0.2419</td>\n",
              "      <td>0.07871</td>\n",
              "      <td>1.0950</td>\n",
              "      <td>0.9053</td>\n",
              "      <td>8.589</td>\n",
              "      <td>153.40</td>\n",
              "      <td>0.006399</td>\n",
              "      <td>0.04904</td>\n",
              "      <td>0.05373</td>\n",
              "      <td>0.01587</td>\n",
              "      <td>0.03003</td>\n",
              "      <td>0.006193</td>\n",
              "      <td>25.38</td>\n",
              "      <td>17.33</td>\n",
              "      <td>184.60</td>\n",
              "      <td>2019.0</td>\n",
              "      <td>0.1622</td>\n",
              "      <td>0.6656</td>\n",
              "      <td>0.7119</td>\n",
              "      <td>0.2654</td>\n",
              "      <td>0.4601</td>\n",
              "      <td>0.11890</td>\n",
              "      <td>NaN</td>\n",
              "    </tr>\n",
              "    <tr>\n",
              "      <th>1</th>\n",
              "      <td>842517</td>\n",
              "      <td>M</td>\n",
              "      <td>20.57</td>\n",
              "      <td>17.77</td>\n",
              "      <td>132.90</td>\n",
              "      <td>1326.0</td>\n",
              "      <td>0.08474</td>\n",
              "      <td>0.07864</td>\n",
              "      <td>0.0869</td>\n",
              "      <td>0.07017</td>\n",
              "      <td>0.1812</td>\n",
              "      <td>0.05667</td>\n",
              "      <td>0.5435</td>\n",
              "      <td>0.7339</td>\n",
              "      <td>3.398</td>\n",
              "      <td>74.08</td>\n",
              "      <td>0.005225</td>\n",
              "      <td>0.01308</td>\n",
              "      <td>0.01860</td>\n",
              "      <td>0.01340</td>\n",
              "      <td>0.01389</td>\n",
              "      <td>0.003532</td>\n",
              "      <td>24.99</td>\n",
              "      <td>23.41</td>\n",
              "      <td>158.80</td>\n",
              "      <td>1956.0</td>\n",
              "      <td>0.1238</td>\n",
              "      <td>0.1866</td>\n",
              "      <td>0.2416</td>\n",
              "      <td>0.1860</td>\n",
              "      <td>0.2750</td>\n",
              "      <td>0.08902</td>\n",
              "      <td>NaN</td>\n",
              "    </tr>\n",
              "    <tr>\n",
              "      <th>2</th>\n",
              "      <td>84300903</td>\n",
              "      <td>M</td>\n",
              "      <td>19.69</td>\n",
              "      <td>21.25</td>\n",
              "      <td>130.00</td>\n",
              "      <td>1203.0</td>\n",
              "      <td>0.10960</td>\n",
              "      <td>0.15990</td>\n",
              "      <td>0.1974</td>\n",
              "      <td>0.12790</td>\n",
              "      <td>0.2069</td>\n",
              "      <td>0.05999</td>\n",
              "      <td>0.7456</td>\n",
              "      <td>0.7869</td>\n",
              "      <td>4.585</td>\n",
              "      <td>94.03</td>\n",
              "      <td>0.006150</td>\n",
              "      <td>0.04006</td>\n",
              "      <td>0.03832</td>\n",
              "      <td>0.02058</td>\n",
              "      <td>0.02250</td>\n",
              "      <td>0.004571</td>\n",
              "      <td>23.57</td>\n",
              "      <td>25.53</td>\n",
              "      <td>152.50</td>\n",
              "      <td>1709.0</td>\n",
              "      <td>0.1444</td>\n",
              "      <td>0.4245</td>\n",
              "      <td>0.4504</td>\n",
              "      <td>0.2430</td>\n",
              "      <td>0.3613</td>\n",
              "      <td>0.08758</td>\n",
              "      <td>NaN</td>\n",
              "    </tr>\n",
              "    <tr>\n",
              "      <th>3</th>\n",
              "      <td>84348301</td>\n",
              "      <td>M</td>\n",
              "      <td>11.42</td>\n",
              "      <td>20.38</td>\n",
              "      <td>77.58</td>\n",
              "      <td>386.1</td>\n",
              "      <td>0.14250</td>\n",
              "      <td>0.28390</td>\n",
              "      <td>0.2414</td>\n",
              "      <td>0.10520</td>\n",
              "      <td>0.2597</td>\n",
              "      <td>0.09744</td>\n",
              "      <td>0.4956</td>\n",
              "      <td>1.1560</td>\n",
              "      <td>3.445</td>\n",
              "      <td>27.23</td>\n",
              "      <td>0.009110</td>\n",
              "      <td>0.07458</td>\n",
              "      <td>0.05661</td>\n",
              "      <td>0.01867</td>\n",
              "      <td>0.05963</td>\n",
              "      <td>0.009208</td>\n",
              "      <td>14.91</td>\n",
              "      <td>26.50</td>\n",
              "      <td>98.87</td>\n",
              "      <td>567.7</td>\n",
              "      <td>0.2098</td>\n",
              "      <td>0.8663</td>\n",
              "      <td>0.6869</td>\n",
              "      <td>0.2575</td>\n",
              "      <td>0.6638</td>\n",
              "      <td>0.17300</td>\n",
              "      <td>NaN</td>\n",
              "    </tr>\n",
              "    <tr>\n",
              "      <th>4</th>\n",
              "      <td>84358402</td>\n",
              "      <td>M</td>\n",
              "      <td>20.29</td>\n",
              "      <td>14.34</td>\n",
              "      <td>135.10</td>\n",
              "      <td>1297.0</td>\n",
              "      <td>0.10030</td>\n",
              "      <td>0.13280</td>\n",
              "      <td>0.1980</td>\n",
              "      <td>0.10430</td>\n",
              "      <td>0.1809</td>\n",
              "      <td>0.05883</td>\n",
              "      <td>0.7572</td>\n",
              "      <td>0.7813</td>\n",
              "      <td>5.438</td>\n",
              "      <td>94.44</td>\n",
              "      <td>0.011490</td>\n",
              "      <td>0.02461</td>\n",
              "      <td>0.05688</td>\n",
              "      <td>0.01885</td>\n",
              "      <td>0.01756</td>\n",
              "      <td>0.005115</td>\n",
              "      <td>22.54</td>\n",
              "      <td>16.67</td>\n",
              "      <td>152.20</td>\n",
              "      <td>1575.0</td>\n",
              "      <td>0.1374</td>\n",
              "      <td>0.2050</td>\n",
              "      <td>0.4000</td>\n",
              "      <td>0.1625</td>\n",
              "      <td>0.2364</td>\n",
              "      <td>0.07678</td>\n",
              "      <td>NaN</td>\n",
              "    </tr>\n",
              "  </tbody>\n",
              "</table>\n",
              "</div>"
            ],
            "text/plain": [
              "         id diagnosis  ...  fractal_dimension_worst  Unnamed: 32\n",
              "0    842302         M  ...                  0.11890          NaN\n",
              "1    842517         M  ...                  0.08902          NaN\n",
              "2  84300903         M  ...                  0.08758          NaN\n",
              "3  84348301         M  ...                  0.17300          NaN\n",
              "4  84358402         M  ...                  0.07678          NaN\n",
              "\n",
              "[5 rows x 33 columns]"
            ]
          },
          "metadata": {
            "tags": []
          },
          "execution_count": 8
        }
      ]
    },
    {
      "cell_type": "code",
      "metadata": {
        "id": "OPXEFrd1hoUC",
        "colab_type": "code",
        "outputId": "f6865a4e-b858-4f18-d5dc-52a979594acc",
        "colab": {
          "base_uri": "https://localhost:8080/",
          "height": 369
        }
      },
      "source": [
        "import seaborn as sns\n",
        "ax=sns.countplot(data['diagnosis'],label='Count')\n",
        "B,M=data['diagnosis'].value_counts()\n",
        "print('Benign',B)\n",
        "print('Malignant',M)"
      ],
      "execution_count": 0,
      "outputs": [
        {
          "output_type": "stream",
          "text": [
            "/usr/local/lib/python3.6/dist-packages/statsmodels/tools/_testing.py:19: FutureWarning: pandas.util.testing is deprecated. Use the functions in the public API at pandas.testing instead.\n",
            "  import pandas.util.testing as tm\n"
          ],
          "name": "stderr"
        },
        {
          "output_type": "stream",
          "text": [
            "Benign 357\n",
            "Malignant 212\n"
          ],
          "name": "stdout"
        },
        {
          "output_type": "display_data",
          "data": {
            "image/png": "[encoded data removed]",
            "text/plain": [
              "<Figure size 432x288 with 1 Axes>"
            ]
          },
          "metadata": {
            "tags": [],
            "needs_background": "light"
          }
        }
      ]
    },
    {
      "cell_type": "code",
      "metadata": {
        "id": "WxBn1CahiquS",
        "colab_type": "code",
        "colab": {}
      },
      "source": [
        "import pandas as pd\n",
        "import numpy as np\n",
        "import matplotlib.pyplot as plt\n",
        "import seaborn as sns\n",
        "sns.set() \n",
        "del data['Unnamed: 32']"
      ],
      "execution_count": 0,
      "outputs": []
    },
    {
      "cell_type": "code",
      "metadata": {
        "id": "GzcCj4_rjNzK",
        "colab_type": "code",
        "colab": {}
      },
      "source": [
        "X=data.iloc[:,2:].values\n",
        "y=data.iloc[:,1].values\n"
      ],
      "execution_count": 0,
      "outputs": []
    },
    {
      "cell_type": "code",
      "metadata": {
        "id": "KZYk4Uffj7PQ",
        "colab_type": "code",
        "colab": {}
      },
      "source": [
        "#encoding categorical data\n",
        "from sklearn.preprocessing import LabelEncoder\n",
        "labelencoder_X_1=LabelEncoder()\n",
        "y=labelencoder_X_1.fit_transform(y)\n"
      ],
      "execution_count": 0,
      "outputs": []
    },
    {
      "cell_type": "code",
      "metadata": {
        "id": "zcDIix3bkVsV",
        "colab_type": "code",
        "colab": {}
      },
      "source": [
        "#splitting the dataset into training and testing set\n",
        "from sklearn.model_selection import train_test_split\n",
        "X_train,X_test,y_train,y_test=train_test_split(X,y,test_size=0.20,shuffle=True)\n"
      ],
      "execution_count": 0,
      "outputs": []
    },
    {
      "cell_type": "code",
      "metadata": {
        "id": "lRK3KAIGkvr6",
        "colab_type": "code",
        "colab": {}
      },
      "source": [
        "#Feature Scaling\n",
        "from sklearn.preprocessing import StandardScaler\n",
        "sc=StandardScaler()\n",
        "X_train=sc.fit_transform(X_train)\n",
        "X_test=sc.transform(X_test)\n"
      ],
      "execution_count": 0,
      "outputs": []
    },
    {
      "cell_type": "code",
      "metadata": {
        "id": "4bni9ANPlXW7",
        "colab_type": "code",
        "outputId": "3661581b-2995-4fef-e65f-c30971e67046",
        "colab": {
          "base_uri": "https://localhost:8080/",
          "height": 156
        }
      },
      "source": [
        "!pip install keras"
      ],
      "execution_count": 0,
      "outputs": [
        {
          "output_type": "stream",
          "text": [
            "Requirement already satisfied: keras in /usr/local/lib/python3.6/dist-packages (2.3.1)\n",
            "Requirement already satisfied: keras-applications>=1.0.6 in /usr/local/lib/python3.6/dist-packages (from keras) (1.0.8)\n",
            "Requirement already satisfied: keras-preprocessing>=1.0.5 in /usr/local/lib/python3.6/dist-packages (from keras) (1.1.0)\n",
            "Requirement already satisfied: scipy>=0.14 in /usr/local/lib/python3.6/dist-packages (from keras) (1.4.1)\n",
            "Requirement already satisfied: six>=1.9.0 in /usr/local/lib/python3.6/dist-packages (from keras) (1.12.0)\n",
            "Requirement already satisfied: h5py in /usr/local/lib/python3.6/dist-packages (from keras) (2.10.0)\n",
            "Requirement already satisfied: pyyaml in /usr/local/lib/python3.6/dist-packages (from keras) (3.13)\n",
            "Requirement already satisfied: numpy>=1.9.1 in /usr/local/lib/python3.6/dist-packages (from keras) (1.18.4)\n"
          ],
          "name": "stdout"
        }
      ]
    },
    {
      "cell_type": "code",
      "metadata": {
        "id": "EIBdVepLlgUE",
        "colab_type": "code",
        "colab": {}
      },
      "source": [
        "import keras\n",
        "from keras.models import Sequential\n",
        "from keras.layers import Dense"
      ],
      "execution_count": 0,
      "outputs": []
    },
    {
      "cell_type": "code",
      "metadata": {
        "id": "T8nhW6_ll_yl",
        "colab_type": "code",
        "outputId": "aeb28659-bb23-4598-c263-049f41b3a345",
        "colab": {
          "base_uri": "https://localhost:8080/",
          "height": 141
        }
      },
      "source": [
        "#adding input layer\n",
        "classifier=Sequential()\n",
        "classifier.add(Dense(input_dim=30,output_dim=16,init='uniform',activation='relu'))\n",
        "#adding first hidden layer\n",
        "classifier.add(Dense(output_dim=16,init='uniform',activation='relu'))\n",
        "#adding the output layer\n",
        "classifier.add(Dense(output_dim=1,init='uniform',activation='sigmoid'))"
      ],
      "execution_count": 0,
      "outputs": [
        {
          "output_type": "stream",
          "text": [
            "/usr/local/lib/python3.6/dist-packages/ipykernel_launcher.py:3: UserWarning: Update your `Dense` call to the Keras 2 API: `Dense(input_dim=30, activation=\"relu\", units=16, kernel_initializer=\"uniform\")`\n",
            "  This is separate from the ipykernel package so we can avoid doing imports until\n",
            "/usr/local/lib/python3.6/dist-packages/ipykernel_launcher.py:5: UserWarning: Update your `Dense` call to the Keras 2 API: `Dense(activation=\"relu\", units=16, kernel_initializer=\"uniform\")`\n",
            "  \"\"\"\n",
            "/usr/local/lib/python3.6/dist-packages/ipykernel_launcher.py:7: UserWarning: Update your `Dense` call to the Keras 2 API: `Dense(activation=\"sigmoid\", units=1, kernel_initializer=\"uniform\")`\n",
            "  import sys\n"
          ],
          "name": "stderr"
        }
      ]
    },
    {
      "cell_type": "code",
      "metadata": {
        "id": "z2vqiYvxnkq3",
        "colab_type": "code",
        "colab": {}
      },
      "source": [
        "classifier.compile(optimizer=\"Adam\",loss='binary_crossentropy',metrics=['accuracy'])"
      ],
      "execution_count": 0,
      "outputs": []
    },
    {
      "cell_type": "code",
      "metadata": {
        "id": "BljcKZovrR7f",
        "colab_type": "code",
        "outputId": "e37380f3-2043-4abd-dbb2-93f8949bc1f0",
        "colab": {
          "base_uri": "https://localhost:8080/",
          "height": 1000
        }
      },
      "source": [
        "classifier.fit(X_train,y_train,batch_size=100,nb_epoch=150)"
      ],
      "execution_count": 0,
      "outputs": [
        {
          "output_type": "stream",
          "text": [
            "/usr/local/lib/python3.6/dist-packages/ipykernel_launcher.py:1: UserWarning: The `nb_epoch` argument in `fit` has been renamed `epochs`.\n",
            "  \"\"\"Entry point for launching an IPython kernel.\n"
          ],
          "name": "stderr"
        },
        {
          "output_type": "stream",
          "text": [
            "Epoch 1/150\n",
            "455/455 [==============================] - 0s 196us/step - loss: 0.6926 - accuracy: 0.6571\n",
            "Epoch 2/150\n",
            "455/455 [==============================] - 0s 17us/step - loss: 0.6909 - accuracy: 0.6440\n",
            "Epoch 3/150\n",
            "455/455 [==============================] - 0s 18us/step - loss: 0.6882 - accuracy: 0.6945\n",
            "Epoch 4/150\n",
            "455/455 [==============================] - 0s 16us/step - loss: 0.6839 - accuracy: 0.8000\n",
            "Epoch 5/150\n",
            "455/455 [==============================] - 0s 19us/step - loss: 0.6775 - accuracy: 0.8835\n",
            "Epoch 6/150\n",
            "455/455 [==============================] - 0s 18us/step - loss: 0.6677 - accuracy: 0.9231\n",
            "Epoch 7/150\n",
            "455/455 [==============================] - 0s 20us/step - loss: 0.6539 - accuracy: 0.9319\n",
            "Epoch 8/150\n",
            "455/455 [==============================] - 0s 22us/step - loss: 0.6350 - accuracy: 0.9385\n",
            "Epoch 9/150\n",
            "455/455 [==============================] - 0s 21us/step - loss: 0.6105 - accuracy: 0.9429\n",
            "Epoch 10/150\n",
            "455/455 [==============================] - 0s 19us/step - loss: 0.5798 - accuracy: 0.9407\n",
            "Epoch 11/150\n",
            "455/455 [==============================] - 0s 19us/step - loss: 0.5431 - accuracy: 0.9407\n",
            "Epoch 12/150\n",
            "455/455 [==============================] - 0s 33us/step - loss: 0.5013 - accuracy: 0.9385\n",
            "Epoch 13/150\n",
            "455/455 [==============================] - 0s 19us/step - loss: 0.4563 - accuracy: 0.9407\n",
            "Epoch 14/150\n",
            "455/455 [==============================] - 0s 20us/step - loss: 0.4095 - accuracy: 0.9429\n",
            "Epoch 15/150\n",
            "455/455 [==============================] - 0s 19us/step - loss: 0.3643 - accuracy: 0.9451\n",
            "Epoch 16/150\n",
            "455/455 [==============================] - 0s 18us/step - loss: 0.3218 - accuracy: 0.9473\n",
            "Epoch 17/150\n",
            "455/455 [==============================] - 0s 17us/step - loss: 0.2840 - accuracy: 0.9473\n",
            "Epoch 18/150\n",
            "455/455 [==============================] - 0s 19us/step - loss: 0.2508 - accuracy: 0.9495\n",
            "Epoch 19/150\n",
            "455/455 [==============================] - 0s 19us/step - loss: 0.2226 - accuracy: 0.9560\n",
            "Epoch 20/150\n",
            "455/455 [==============================] - 0s 20us/step - loss: 0.1995 - accuracy: 0.9582\n",
            "Epoch 21/150\n",
            "455/455 [==============================] - 0s 20us/step - loss: 0.1803 - accuracy: 0.9582\n",
            "Epoch 22/150\n",
            "455/455 [==============================] - 0s 22us/step - loss: 0.1640 - accuracy: 0.9626\n",
            "Epoch 23/150\n",
            "455/455 [==============================] - 0s 23us/step - loss: 0.1506 - accuracy: 0.9714\n",
            "Epoch 24/150\n",
            "455/455 [==============================] - 0s 19us/step - loss: 0.1400 - accuracy: 0.9714\n",
            "Epoch 25/150\n",
            "455/455 [==============================] - 0s 18us/step - loss: 0.1305 - accuracy: 0.9758\n",
            "Epoch 26/150\n",
            "455/455 [==============================] - 0s 20us/step - loss: 0.1225 - accuracy: 0.9758\n",
            "Epoch 27/150\n",
            "455/455 [==============================] - 0s 23us/step - loss: 0.1159 - accuracy: 0.9758\n",
            "Epoch 28/150\n",
            "455/455 [==============================] - 0s 24us/step - loss: 0.1101 - accuracy: 0.9780\n",
            "Epoch 29/150\n",
            "455/455 [==============================] - 0s 19us/step - loss: 0.1050 - accuracy: 0.9758\n",
            "Epoch 30/150\n",
            "455/455 [==============================] - 0s 20us/step - loss: 0.1003 - accuracy: 0.9758\n",
            "Epoch 31/150\n",
            "455/455 [==============================] - 0s 23us/step - loss: 0.0965 - accuracy: 0.9758\n",
            "Epoch 32/150\n",
            "455/455 [==============================] - 0s 23us/step - loss: 0.0928 - accuracy: 0.9780\n",
            "Epoch 33/150\n",
            "455/455 [==============================] - 0s 24us/step - loss: 0.0898 - accuracy: 0.9802\n",
            "Epoch 34/150\n",
            "455/455 [==============================] - 0s 19us/step - loss: 0.0870 - accuracy: 0.9802\n",
            "Epoch 35/150\n",
            "455/455 [==============================] - 0s 20us/step - loss: 0.0844 - accuracy: 0.9802\n",
            "Epoch 36/150\n",
            "455/455 [==============================] - 0s 17us/step - loss: 0.0821 - accuracy: 0.9802\n",
            "Epoch 37/150\n",
            "455/455 [==============================] - 0s 17us/step - loss: 0.0800 - accuracy: 0.9802\n",
            "Epoch 38/150\n",
            "455/455 [==============================] - 0s 20us/step - loss: 0.0782 - accuracy: 0.9802\n",
            "Epoch 39/150\n",
            "455/455 [==============================] - 0s 20us/step - loss: 0.0765 - accuracy: 0.9802\n",
            "Epoch 40/150\n",
            "455/455 [==============================] - 0s 22us/step - loss: 0.0749 - accuracy: 0.9802\n",
            "Epoch 41/150\n",
            "455/455 [==============================] - 0s 26us/step - loss: 0.0734 - accuracy: 0.9802\n",
            "Epoch 42/150\n",
            "455/455 [==============================] - 0s 23us/step - loss: 0.0720 - accuracy: 0.9802\n",
            "Epoch 43/150\n",
            "455/455 [==============================] - 0s 27us/step - loss: 0.0706 - accuracy: 0.9802\n",
            "Epoch 44/150\n",
            "455/455 [==============================] - 0s 19us/step - loss: 0.0694 - accuracy: 0.9802\n",
            "Epoch 45/150\n",
            "455/455 [==============================] - 0s 32us/step - loss: 0.0684 - accuracy: 0.9824\n",
            "Epoch 46/150\n",
            "455/455 [==============================] - 0s 21us/step - loss: 0.0672 - accuracy: 0.9824\n",
            "Epoch 47/150\n",
            "455/455 [==============================] - 0s 23us/step - loss: 0.0661 - accuracy: 0.9846\n",
            "Epoch 48/150\n",
            "455/455 [==============================] - 0s 20us/step - loss: 0.0651 - accuracy: 0.9846\n",
            "Epoch 49/150\n",
            "455/455 [==============================] - 0s 18us/step - loss: 0.0642 - accuracy: 0.9846\n",
            "Epoch 50/150\n",
            "455/455 [==============================] - 0s 20us/step - loss: 0.0633 - accuracy: 0.9846\n",
            "Epoch 51/150\n",
            "455/455 [==============================] - 0s 24us/step - loss: 0.0623 - accuracy: 0.9846\n",
            "Epoch 52/150\n",
            "455/455 [==============================] - 0s 20us/step - loss: 0.0615 - accuracy: 0.9846\n",
            "Epoch 53/150\n",
            "455/455 [==============================] - 0s 19us/step - loss: 0.0607 - accuracy: 0.9868\n",
            "Epoch 54/150\n",
            "455/455 [==============================] - 0s 20us/step - loss: 0.0600 - accuracy: 0.9868\n",
            "Epoch 55/150\n",
            "455/455 [==============================] - 0s 21us/step - loss: 0.0592 - accuracy: 0.9868\n",
            "Epoch 56/150\n",
            "455/455 [==============================] - 0s 19us/step - loss: 0.0585 - accuracy: 0.9868\n",
            "Epoch 57/150\n",
            "455/455 [==============================] - 0s 19us/step - loss: 0.0579 - accuracy: 0.9868\n",
            "Epoch 58/150\n",
            "455/455 [==============================] - 0s 19us/step - loss: 0.0573 - accuracy: 0.9868\n",
            "Epoch 59/150\n",
            "455/455 [==============================] - 0s 23us/step - loss: 0.0567 - accuracy: 0.9868\n",
            "Epoch 60/150\n",
            "455/455 [==============================] - 0s 22us/step - loss: 0.0561 - accuracy: 0.9868\n",
            "Epoch 61/150\n",
            "455/455 [==============================] - 0s 20us/step - loss: 0.0556 - accuracy: 0.9868\n",
            "Epoch 62/150\n",
            "455/455 [==============================] - 0s 21us/step - loss: 0.0549 - accuracy: 0.9890\n",
            "Epoch 63/150\n",
            "455/455 [==============================] - 0s 25us/step - loss: 0.0544 - accuracy: 0.9890\n",
            "Epoch 64/150\n",
            "455/455 [==============================] - 0s 20us/step - loss: 0.0538 - accuracy: 0.9890\n",
            "Epoch 65/150\n",
            "455/455 [==============================] - 0s 20us/step - loss: 0.0533 - accuracy: 0.9890\n",
            "Epoch 66/150\n",
            "455/455 [==============================] - 0s 20us/step - loss: 0.0528 - accuracy: 0.9890\n",
            "Epoch 67/150\n",
            "455/455 [==============================] - 0s 20us/step - loss: 0.0523 - accuracy: 0.9890\n",
            "Epoch 68/150\n",
            "455/455 [==============================] - 0s 20us/step - loss: 0.0518 - accuracy: 0.9890\n",
            "Epoch 69/150\n",
            "455/455 [==============================] - 0s 23us/step - loss: 0.0513 - accuracy: 0.9890\n",
            "Epoch 70/150\n",
            "455/455 [==============================] - 0s 21us/step - loss: 0.0508 - accuracy: 0.9890\n",
            "Epoch 71/150\n",
            "455/455 [==============================] - 0s 20us/step - loss: 0.0504 - accuracy: 0.9890\n",
            "Epoch 72/150\n",
            "455/455 [==============================] - 0s 21us/step - loss: 0.0500 - accuracy: 0.9912\n",
            "Epoch 73/150\n",
            "455/455 [==============================] - 0s 20us/step - loss: 0.0497 - accuracy: 0.9912\n",
            "Epoch 74/150\n",
            "455/455 [==============================] - 0s 20us/step - loss: 0.0493 - accuracy: 0.9912\n",
            "Epoch 75/150\n",
            "455/455 [==============================] - 0s 20us/step - loss: 0.0489 - accuracy: 0.9912\n",
            "Epoch 76/150\n",
            "455/455 [==============================] - 0s 19us/step - loss: 0.0485 - accuracy: 0.9912\n",
            "Epoch 77/150\n",
            "455/455 [==============================] - 0s 22us/step - loss: 0.0481 - accuracy: 0.9912\n",
            "Epoch 78/150\n",
            "455/455 [==============================] - 0s 21us/step - loss: 0.0478 - accuracy: 0.9912\n",
            "Epoch 79/150\n",
            "455/455 [==============================] - 0s 20us/step - loss: 0.0474 - accuracy: 0.9912\n",
            "Epoch 80/150\n",
            "455/455 [==============================] - 0s 19us/step - loss: 0.0471 - accuracy: 0.9912\n",
            "Epoch 81/150\n",
            "455/455 [==============================] - 0s 23us/step - loss: 0.0467 - accuracy: 0.9912\n",
            "Epoch 82/150\n",
            "455/455 [==============================] - 0s 27us/step - loss: 0.0464 - accuracy: 0.9912\n",
            "Epoch 83/150\n",
            "455/455 [==============================] - 0s 20us/step - loss: 0.0460 - accuracy: 0.9912\n",
            "Epoch 84/150\n",
            "455/455 [==============================] - 0s 22us/step - loss: 0.0457 - accuracy: 0.9912\n",
            "Epoch 85/150\n",
            "455/455 [==============================] - 0s 21us/step - loss: 0.0454 - accuracy: 0.9912\n",
            "Epoch 86/150\n",
            "455/455 [==============================] - 0s 22us/step - loss: 0.0450 - accuracy: 0.9912\n",
            "Epoch 87/150\n",
            "455/455 [==============================] - 0s 22us/step - loss: 0.0447 - accuracy: 0.9912\n",
            "Epoch 88/150\n",
            "455/455 [==============================] - 0s 22us/step - loss: 0.0443 - accuracy: 0.9912\n",
            "Epoch 89/150\n",
            "455/455 [==============================] - 0s 22us/step - loss: 0.0440 - accuracy: 0.9912\n",
            "Epoch 90/150\n",
            "455/455 [==============================] - 0s 21us/step - loss: 0.0437 - accuracy: 0.9912\n",
            "Epoch 91/150\n",
            "455/455 [==============================] - 0s 26us/step - loss: 0.0435 - accuracy: 0.9912\n",
            "Epoch 92/150\n",
            "455/455 [==============================] - 0s 29us/step - loss: 0.0432 - accuracy: 0.9912\n",
            "Epoch 93/150\n",
            "455/455 [==============================] - 0s 23us/step - loss: 0.0428 - accuracy: 0.9912\n",
            "Epoch 94/150\n",
            "455/455 [==============================] - 0s 24us/step - loss: 0.0426 - accuracy: 0.9912\n",
            "Epoch 95/150\n",
            "455/455 [==============================] - 0s 28us/step - loss: 0.0423 - accuracy: 0.9912\n",
            "Epoch 96/150\n",
            "455/455 [==============================] - 0s 26us/step - loss: 0.0421 - accuracy: 0.9912\n",
            "Epoch 97/150\n",
            "455/455 [==============================] - 0s 21us/step - loss: 0.0417 - accuracy: 0.9912\n",
            "Epoch 98/150\n",
            "455/455 [==============================] - 0s 28us/step - loss: 0.0415 - accuracy: 0.9912\n",
            "Epoch 99/150\n",
            "455/455 [==============================] - 0s 22us/step - loss: 0.0412 - accuracy: 0.9912\n",
            "Epoch 100/150\n",
            "455/455 [==============================] - 0s 25us/step - loss: 0.0409 - accuracy: 0.9912\n",
            "Epoch 101/150\n",
            "455/455 [==============================] - 0s 22us/step - loss: 0.0406 - accuracy: 0.9912\n",
            "Epoch 102/150\n",
            "455/455 [==============================] - 0s 23us/step - loss: 0.0404 - accuracy: 0.9912\n",
            "Epoch 103/150\n",
            "455/455 [==============================] - 0s 20us/step - loss: 0.0401 - accuracy: 0.9912\n",
            "Epoch 104/150\n",
            "455/455 [==============================] - 0s 23us/step - loss: 0.0398 - accuracy: 0.9912\n",
            "Epoch 105/150\n",
            "455/455 [==============================] - 0s 25us/step - loss: 0.0396 - accuracy: 0.9912\n",
            "Epoch 106/150\n",
            "455/455 [==============================] - 0s 20us/step - loss: 0.0393 - accuracy: 0.9912\n",
            "Epoch 107/150\n",
            "455/455 [==============================] - 0s 24us/step - loss: 0.0391 - accuracy: 0.9912\n",
            "Epoch 108/150\n",
            "455/455 [==============================] - 0s 24us/step - loss: 0.0388 - accuracy: 0.9912\n",
            "Epoch 109/150\n",
            "455/455 [==============================] - 0s 20us/step - loss: 0.0385 - accuracy: 0.9912\n",
            "Epoch 110/150\n",
            "455/455 [==============================] - 0s 21us/step - loss: 0.0383 - accuracy: 0.9912\n",
            "Epoch 111/150\n",
            "455/455 [==============================] - 0s 22us/step - loss: 0.0380 - accuracy: 0.9912\n",
            "Epoch 112/150\n",
            "455/455 [==============================] - 0s 22us/step - loss: 0.0376 - accuracy: 0.9912\n",
            "Epoch 113/150\n",
            "455/455 [==============================] - 0s 25us/step - loss: 0.0373 - accuracy: 0.9912\n",
            "Epoch 114/150\n",
            "455/455 [==============================] - 0s 22us/step - loss: 0.0369 - accuracy: 0.9912\n",
            "Epoch 115/150\n",
            "455/455 [==============================] - 0s 20us/step - loss: 0.0367 - accuracy: 0.9912\n",
            "Epoch 116/150\n",
            "455/455 [==============================] - 0s 22us/step - loss: 0.0363 - accuracy: 0.9912\n",
            "Epoch 117/150\n",
            "455/455 [==============================] - 0s 24us/step - loss: 0.0360 - accuracy: 0.9912\n",
            "Epoch 118/150\n",
            "455/455 [==============================] - 0s 21us/step - loss: 0.0357 - accuracy: 0.9912\n",
            "Epoch 119/150\n",
            "455/455 [==============================] - 0s 22us/step - loss: 0.0354 - accuracy: 0.9912\n",
            "Epoch 120/150\n",
            "455/455 [==============================] - 0s 23us/step - loss: 0.0351 - accuracy: 0.9912\n",
            "Epoch 121/150\n",
            "455/455 [==============================] - 0s 22us/step - loss: 0.0348 - accuracy: 0.9912\n",
            "Epoch 122/150\n",
            "455/455 [==============================] - 0s 23us/step - loss: 0.0345 - accuracy: 0.9912\n",
            "Epoch 123/150\n",
            "455/455 [==============================] - 0s 22us/step - loss: 0.0343 - accuracy: 0.9912\n",
            "Epoch 124/150\n",
            "455/455 [==============================] - 0s 27us/step - loss: 0.0340 - accuracy: 0.9912\n",
            "Epoch 125/150\n",
            "455/455 [==============================] - 0s 22us/step - loss: 0.0337 - accuracy: 0.9912\n",
            "Epoch 126/150\n",
            "455/455 [==============================] - 0s 23us/step - loss: 0.0335 - accuracy: 0.9934\n",
            "Epoch 127/150\n",
            "455/455 [==============================] - 0s 31us/step - loss: 0.0332 - accuracy: 0.9934\n",
            "Epoch 128/150\n",
            "455/455 [==============================] - 0s 20us/step - loss: 0.0329 - accuracy: 0.9934\n",
            "Epoch 129/150\n",
            "455/455 [==============================] - 0s 26us/step - loss: 0.0326 - accuracy: 0.9934\n",
            "Epoch 130/150\n",
            "455/455 [==============================] - 0s 21us/step - loss: 0.0324 - accuracy: 0.9934\n",
            "Epoch 131/150\n",
            "455/455 [==============================] - 0s 20us/step - loss: 0.0321 - accuracy: 0.9934\n",
            "Epoch 132/150\n",
            "455/455 [==============================] - 0s 21us/step - loss: 0.0319 - accuracy: 0.9934\n",
            "Epoch 133/150\n",
            "455/455 [==============================] - 0s 17us/step - loss: 0.0316 - accuracy: 0.9934\n",
            "Epoch 134/150\n",
            "455/455 [==============================] - 0s 21us/step - loss: 0.0314 - accuracy: 0.9934\n",
            "Epoch 135/150\n",
            "455/455 [==============================] - 0s 19us/step - loss: 0.0311 - accuracy: 0.9934\n",
            "Epoch 136/150\n",
            "455/455 [==============================] - 0s 20us/step - loss: 0.0309 - accuracy: 0.9934\n",
            "Epoch 137/150\n",
            "455/455 [==============================] - 0s 21us/step - loss: 0.0307 - accuracy: 0.9934\n",
            "Epoch 138/150\n",
            "455/455 [==============================] - 0s 21us/step - loss: 0.0304 - accuracy: 0.9934\n",
            "Epoch 139/150\n",
            "455/455 [==============================] - 0s 20us/step - loss: 0.0302 - accuracy: 0.9934\n",
            "Epoch 140/150\n",
            "455/455 [==============================] - 0s 20us/step - loss: 0.0300 - accuracy: 0.9934\n",
            "Epoch 141/150\n",
            "455/455 [==============================] - 0s 20us/step - loss: 0.0297 - accuracy: 0.9934\n",
            "Epoch 142/150\n",
            "455/455 [==============================] - 0s 20us/step - loss: 0.0295 - accuracy: 0.9934\n",
            "Epoch 143/150\n",
            "455/455 [==============================] - 0s 21us/step - loss: 0.0293 - accuracy: 0.9934\n",
            "Epoch 144/150\n",
            "455/455 [==============================] - 0s 23us/step - loss: 0.0291 - accuracy: 0.9934\n",
            "Epoch 145/150\n",
            "455/455 [==============================] - 0s 24us/step - loss: 0.0289 - accuracy: 0.9934\n",
            "Epoch 146/150\n",
            "455/455 [==============================] - 0s 18us/step - loss: 0.0287 - accuracy: 0.9934\n",
            "Epoch 147/150\n",
            "455/455 [==============================] - 0s 21us/step - loss: 0.0284 - accuracy: 0.9934\n",
            "Epoch 148/150\n",
            "455/455 [==============================] - 0s 21us/step - loss: 0.0283 - accuracy: 0.9934\n",
            "Epoch 149/150\n",
            "455/455 [==============================] - 0s 21us/step - loss: 0.0281 - accuracy: 0.9934\n",
            "Epoch 150/150\n",
            "455/455 [==============================] - 0s 21us/step - loss: 0.0279 - accuracy: 0.9934\n"
          ],
          "name": "stdout"
        },
        {
          "output_type": "execute_result",
          "data": {
            "text/plain": [
              "<keras.callbacks.callbacks.History at 0x7f47da6f34a8>"
            ]
          },
          "metadata": {
            "tags": []
          },
          "execution_count": 32
        }
      ]
    },
    {
      "cell_type": "code",
      "metadata": {
        "id": "Yhq6lJvVrh9W",
        "colab_type": "code",
        "outputId": "0003828f-9753-4584-ce19-2f164203373f",
        "colab": {
          "base_uri": "https://localhost:8080/",
          "height": 243
        }
      },
      "source": [
        "X_test"
      ],
      "execution_count": 0,
      "outputs": [
        {
          "output_type": "execute_result",
          "data": {
            "text/plain": [
              "array([[ 2.58537779,  0.13029343,  2.5123318 , ...,  1.69776162,\n",
              "         0.01800767, -0.62376365],\n",
              "       [-1.48583653, -1.08592788, -1.4931568 , ..., -1.51395507,\n",
              "         0.15407402, -0.31636995],\n",
              "       [ 0.4732006 ,  0.82015745,  0.57108811, ...,  1.35015688,\n",
              "         0.61801109,  2.4344245 ],\n",
              "       ...,\n",
              "       [ 2.92055229,  0.2131667 ,  3.1022356 , ...,  1.67358042,\n",
              "         0.5327647 , -0.19679555],\n",
              "       [ 1.83123518,  0.4953838 ,  1.69232369, ...,  0.45998647,\n",
              "        -1.08035924, -0.71125711],\n",
              "       [ 0.19292537, -1.01873334,  0.10920599, ..., -0.5216191 ,\n",
              "        -0.9229813 , -1.28579751]])"
            ]
          },
          "metadata": {
            "tags": []
          },
          "execution_count": 33
        }
      ]
    },
    {
      "cell_type": "code",
      "metadata": {
        "id": "hEK9ybdksOmA",
        "colab_type": "code",
        "colab": {}
      },
      "source": [
        "#predicting the test values\n",
        "y_pred=classifier.predict(X_test)\n",
        "y_pred=(y_pred>0.5)"
      ],
      "execution_count": 0,
      "outputs": []
    },
    {
      "cell_type": "code",
      "metadata": {
        "id": "UlhO81yysiBQ",
        "colab_type": "code",
        "outputId": "2f26a6c2-4c37-450f-de14-4915e145017c",
        "colab": {
          "base_uri": "https://localhost:8080/",
          "height": 285
        }
      },
      "source": [
        "#confusion matrix\n",
        "from sklearn.metrics import confusion_matrix\n",
        "cm=confusion_matrix(y_test,y_pred)\n",
        "sns.heatmap(cm,annot=True)"
      ],
      "execution_count": 0,
      "outputs": [
        {
          "output_type": "execute_result",
          "data": {
            "text/plain": [
              "<matplotlib.axes._subplots.AxesSubplot at 0x7f47d6a5f278>"
            ]
          },
          "metadata": {
            "tags": []
          },
          "execution_count": 35
        },
        {
          "output_type": "display_data",
          "data": {
            "image/png": "[encoded data removed]",
            "text/plain": [
              "<Figure size 432x288 with 2 Axes>"
            ]
          },
          "metadata": {
            "tags": []
          }
        }
      ]
    },
    {
      "cell_type": "code",
      "metadata": {
        "id": "xZCc5Awgs1Ol",
        "colab_type": "code",
        "colab": {}
      },
      "source": [
        ""
      ],
      "execution_count": 0,
      "outputs": []
    }
  ]
}